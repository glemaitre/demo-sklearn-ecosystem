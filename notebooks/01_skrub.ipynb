{
 "cells": [
  {
   "cell_type": "markdown",
   "id": "b2c9a7b8",
   "metadata": {},
   "source": [
    "\n",
    "# `skrub` - less wrangling, more machine learning\n",
    "\n",
    "## Help in the exploration of the data"
   ]
  },
  {
   "cell_type": "code",
   "execution_count": null,
   "id": "1ec0750b",
   "metadata": {},
   "outputs": [],
   "source": [
    "from skrub.datasets import fetch_employee_salaries\n",
    "\n",
    "employee_salaries = fetch_employee_salaries()\n",
    "X, y = employee_salaries.X, employee_salaries.y\n",
    "X.head()"
   ]
  },
  {
   "cell_type": "code",
   "execution_count": null,
   "id": "2e1b777b",
   "metadata": {},
   "outputs": [],
   "source": [
    "y.head()"
   ]
  },
  {
   "cell_type": "code",
   "execution_count": null,
   "id": "f56f85d7",
   "metadata": {},
   "outputs": [],
   "source": [
    "from skrub import TableReport\n",
    "\n",
    "table = TableReport(employee_salaries.employee_salaries)\n",
    "table"
   ]
  },
  {
   "cell_type": "code",
   "execution_count": null,
   "id": "701f278b",
   "metadata": {},
   "outputs": [],
   "source": [
    "from skrub import patch_display\n",
    "\n",
    "patch_display()  # you can use skrub.unpatch_display() to disable the display"
   ]
  },
  {
   "cell_type": "code",
   "execution_count": null,
   "id": "850a7d83",
   "metadata": {},
   "outputs": [],
   "source": [
    "X"
   ]
  },
  {
   "cell_type": "markdown",
   "id": "d1e6d840",
   "metadata": {},
   "source": [
    "\n",
    "## Help at preprocessing data\n",
    "\n",
    "`skrub` comes with a set of additional encoders."
   ]
  },
  {
   "cell_type": "code",
   "execution_count": null,
   "id": "b7f974a7",
   "metadata": {},
   "outputs": [],
   "source": [
    "from skrub import DatetimeEncoder, ToDatetime\n",
    "from sklearn.pipeline import make_pipeline\n",
    "\n",
    "encoder = make_pipeline(ToDatetime(), DatetimeEncoder())\n",
    "encoder.fit_transform(X[\"date_first_hired\"])"
   ]
  },
  {
   "cell_type": "code",
   "execution_count": null,
   "id": "43dcbadb",
   "metadata": {},
   "outputs": [],
   "source": [
    "from skrub import TextEncoder\n",
    "\n",
    "encoder = TextEncoder()\n",
    "encoder.fit_transform(X[\"employee_position_title\"])"
   ]
  },
  {
   "cell_type": "code",
   "execution_count": null,
   "id": "39d3cfed",
   "metadata": {},
   "outputs": [],
   "source": [
    "from skrub import MinHashEncoder\n",
    "\n",
    "encoder = MinHashEncoder()\n",
    "encoder.fit_transform(X[\"employee_position_title\"])"
   ]
  },
  {
   "cell_type": "markdown",
   "id": "849cc02b",
   "metadata": {},
   "source": [
    "\n",
    "`TableVectorizer` helps at reducing the boilerplate of `ColumnTransformer`."
   ]
  },
  {
   "cell_type": "code",
   "execution_count": null,
   "id": "8c99cf62",
   "metadata": {},
   "outputs": [],
   "source": [
    "from skrub import TableVectorizer\n",
    "\n",
    "vectorizer = TableVectorizer()\n",
    "vectorizer"
   ]
  },
  {
   "cell_type": "markdown",
   "id": "18ba3e0f",
   "metadata": {},
   "source": [
    "\n",
    "`tabular_learner` to help at getting meaningful baselines quickly."
   ]
  },
  {
   "cell_type": "code",
   "execution_count": null,
   "id": "ec5a2735",
   "metadata": {},
   "outputs": [],
   "source": [
    "from skrub import tabular_learner\n",
    "from sklearn.linear_model import RidgeCV\n",
    "\n",
    "model = tabular_learner(RidgeCV())\n",
    "model"
   ]
  },
  {
   "cell_type": "code",
   "execution_count": null,
   "id": "b424cac0",
   "metadata": {},
   "outputs": [],
   "source": [
    "model = tabular_learner(\"regressor\")\n",
    "model"
   ]
  },
  {
   "cell_type": "code",
   "execution_count": null,
   "id": "f64550e0",
   "metadata": {},
   "outputs": [],
   "source": [
    "import pandas as pd\n",
    "from sklearn.model_selection import cross_validate\n",
    "\n",
    "cv_results = cross_validate(model, X, y)\n",
    "cv_results = pd.DataFrame(cv_results)"
   ]
  },
  {
   "cell_type": "code",
   "execution_count": null,
   "id": "e1b1e122",
   "metadata": {},
   "outputs": [],
   "source": [
    "cv_results"
   ]
  },
  {
   "cell_type": "markdown",
   "id": "8ef2d507",
   "metadata": {},
   "source": [
    "\n",
    "Table joiner compatible with the scikit-learn API. It allows to handle properly\n",
    "states between training and prediction for which data wrangling with pure pandas or\n",
    "polars would fail."
   ]
  },
  {
   "cell_type": "code",
   "execution_count": null,
   "id": "f2e9064b",
   "metadata": {},
   "outputs": [],
   "source": [
    "from skrub import Joiner\n",
    "\n",
    "airports = pd.DataFrame(\n",
    "    {\n",
    "        \"airport_id\": [1, 2],\n",
    "        \"airport_name\": [\"Charles de Gaulle\", \"Aeroporto Leonardo da Vinci\"],\n",
    "        \"city\": [\"Paris\", \"Roma\"],\n",
    "    }\n",
    ")\n",
    "# notice the \"Rome\" instead of \"Roma\"\n",
    "capitals = pd.DataFrame(\n",
    "    {\"capital\": [\"Berlin\", \"Paris\", \"Rome\"], \"country\": [\"Germany\", \"France\", \"Italy\"]}\n",
    ")\n",
    "joiner = Joiner(\n",
    "    capitals,\n",
    "    main_key=\"city\",\n",
    "    aux_key=\"capital\",\n",
    "    max_dist=0.8,\n",
    "    add_match_info=False,\n",
    ")\n",
    "joiner.fit_transform(airports)"
   ]
  },
  {
   "cell_type": "markdown",
   "id": "fa5ffb48",
   "metadata": {},
   "source": [
    "\n",
    "## Conclusions\n",
    "\n",
    "**Vision**\n",
    "- Less wrangling, more machine learning\n",
    "- Bring the world of database closer to machine learning\n",
    "\n",
    "**Wrap-up**\n",
    "- Additional components to assemble, encode, and vectorize data\n",
    "- Reduce boilerplate code to get good baseline\n",
    "- Broader the scope of scikit-learn pipeline to the database world\n",
    "\n",
    "**Bold vision**\n",
    "- scikit-learn should be the machine learning toolbox with its numerical\n",
    "  optimization roots and expertise\n",
    "- skrub could be where the data preparation happen with integration with\n",
    "  dataframe-like libraries"
   ]
  }
 ],
 "metadata": {
  "jupytext": {
   "cell_metadata_filter": "-all",
   "main_language": "python",
   "notebook_metadata_filter": "-all"
  }
 },
 "nbformat": 4,
 "nbformat_minor": 5
}
