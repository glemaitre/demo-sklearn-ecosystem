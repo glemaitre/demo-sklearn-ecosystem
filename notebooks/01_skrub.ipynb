{
 "cells": [
  {
   "cell_type": "markdown",
   "id": "06bda342",
   "metadata": {},
   "source": [
    "\n",
    "# `skrub` - less wrangling, more machine learning\n",
    "\n",
    "## Help in the exploration of the data"
   ]
  },
  {
   "cell_type": "code",
   "execution_count": null,
   "id": "51db8714",
   "metadata": {},
   "outputs": [],
   "source": [
    "from skrub.datasets import fetch_employee_salaries\n",
    "\n",
    "employee_salaries = fetch_employee_salaries()\n",
    "X, y = employee_salaries.X, employee_salaries.y\n",
    "X.head()"
   ]
  },
  {
   "cell_type": "code",
   "execution_count": null,
   "id": "2a467dbb",
   "metadata": {},
   "outputs": [],
   "source": [
    "y.head()"
   ]
  },
  {
   "cell_type": "code",
   "execution_count": null,
   "id": "c5fc7682",
   "metadata": {},
   "outputs": [],
   "source": [
    "from skrub import TableReport\n",
    "\n",
    "table = TableReport(employee_salaries.employee_salaries)\n",
    "table"
   ]
  },
  {
   "cell_type": "code",
   "execution_count": null,
   "id": "b1d36b83",
   "metadata": {},
   "outputs": [],
   "source": [
    "from skrub import patch_display\n",
    "\n",
    "patch_display()  # you can use skrub.unpatch_display() to disable the display"
   ]
  },
  {
   "cell_type": "code",
   "execution_count": null,
   "id": "9ead681b",
   "metadata": {},
   "outputs": [],
   "source": [
    "X"
   ]
  },
  {
   "cell_type": "markdown",
   "id": "c1a9efb9",
   "metadata": {},
   "source": [
    "\n",
    "## Help at preprocessing data\n",
    "\n",
    "`skrub` comes with a set of additional encoders."
   ]
  },
  {
   "cell_type": "code",
   "execution_count": null,
   "id": "b82d8f6d",
   "metadata": {},
   "outputs": [],
   "source": [
    "from skrub import DatetimeEncoder, ToDatetime\n",
    "from sklearn.pipeline import make_pipeline\n",
    "\n",
    "encoder = make_pipeline(ToDatetime(), DatetimeEncoder())\n",
    "encoder.fit_transform(X[\"date_first_hired\"])"
   ]
  },
  {
   "cell_type": "code",
   "execution_count": null,
   "id": "b7091eed",
   "metadata": {},
   "outputs": [],
   "source": [
    "from skrub import TextEncoder\n",
    "\n",
    "encoder = TextEncoder()\n",
    "encoder.fit_transform(X[\"employee_position_title\"])"
   ]
  },
  {
   "cell_type": "code",
   "execution_count": null,
   "id": "3db30a00",
   "metadata": {},
   "outputs": [],
   "source": [
    "from skrub import MinHashEncoder\n",
    "\n",
    "encoder = MinHashEncoder()\n",
    "encoder.fit_transform(X[\"employee_position_title\"])"
   ]
  },
  {
   "cell_type": "markdown",
   "id": "9b4aebe6",
   "metadata": {},
   "source": [
    "\n",
    "`TableVectorizer` helps at reducing the boilerplate of `ColumnTransformer`."
   ]
  },
  {
   "cell_type": "code",
   "execution_count": null,
   "id": "67346182",
   "metadata": {},
   "outputs": [],
   "source": [
    "from skrub import TableVectorizer\n",
    "\n",
    "vectorizer = TableVectorizer()\n",
    "vectorizer"
   ]
  },
  {
   "cell_type": "markdown",
   "id": "941c71ea",
   "metadata": {},
   "source": [
    "\n",
    "`tabular_learner` to help at getting meaningful baselines quickly."
   ]
  },
  {
   "cell_type": "code",
   "execution_count": null,
   "id": "4f0a2c25",
   "metadata": {},
   "outputs": [],
   "source": [
    "from skrub import tabular_learner\n",
    "from sklearn.linear_model import RidgeCV\n",
    "\n",
    "model = tabular_learner(RidgeCV())\n",
    "model"
   ]
  },
  {
   "cell_type": "code",
   "execution_count": null,
   "id": "edcd38cb",
   "metadata": {},
   "outputs": [],
   "source": [
    "model = tabular_learner(\"regressor\")\n",
    "model"
   ]
  },
  {
   "cell_type": "code",
   "execution_count": null,
   "id": "bc952f8a",
   "metadata": {},
   "outputs": [],
   "source": [
    "import pandas as pd\n",
    "from sklearn.model_selection import cross_validate\n",
    "\n",
    "cv_results = cross_validate(model, X, y)\n",
    "cv_results = pd.DataFrame(cv_results)"
   ]
  },
  {
   "cell_type": "code",
   "execution_count": null,
   "id": "5d1539dd",
   "metadata": {},
   "outputs": [],
   "source": [
    "cv_results"
   ]
  },
  {
   "cell_type": "markdown",
   "id": "27325851",
   "metadata": {},
   "source": [
    "\n",
    "Table joiner compatible with the scikit-learn API. It allows to handle properly\n",
    "states between training and prediction for which data wrangling with pure pandas or\n",
    "polars would fail."
   ]
  },
  {
   "cell_type": "code",
   "execution_count": null,
   "id": "62e1d624",
   "metadata": {},
   "outputs": [],
   "source": [
    "from skrub import Joiner\n",
    "\n",
    "airports = pd.DataFrame(\n",
    "    {\n",
    "        \"airport_id\": [1, 2],\n",
    "        \"airport_name\": [\"Charles de Gaulle\", \"Aeroporto Leonardo da Vinci\"],\n",
    "        \"city\": [\"Paris\", \"Roma\"],\n",
    "    }\n",
    ")\n",
    "# notice the \"Rome\" instead of \"Roma\"\n",
    "capitals = pd.DataFrame(\n",
    "    {\"capital\": [\"Berlin\", \"Paris\", \"Rome\"], \"country\": [\"Germany\", \"France\", \"Italy\"]}\n",
    ")\n",
    "joiner = Joiner(\n",
    "    capitals,\n",
    "    main_key=\"city\",\n",
    "    aux_key=\"capital\",\n",
    "    max_dist=0.8,\n",
    "    add_match_info=False,\n",
    ")\n",
    "joiner.fit_transform(airports)"
   ]
  },
  {
   "cell_type": "markdown",
   "id": "1592ed86",
   "metadata": {},
   "source": [
    "\n",
    "## Conclusions\n",
    "\n",
    "**Vision**\n",
    "- Less wrangling, more machine learning\n",
    "- Bring the world of database closer to machine learning\n",
    "\n",
    "**Wrap-up**\n",
    "- Additional components to assemble, encode, and vectorize data\n",
    "- Reduce boilerplate code to get good baseline\n",
    "- Broader the scope of scikit-learn pipeline to the database world\n",
    "\n",
    "**Bold vision**\n",
    "- scikit-learn should be the machine learning toolbox with its numerical\n",
    "  optimization roots and expertise\n",
    "- skrub could be where the data preparation happen with integration with\n",
    "  dataframe-like libraries"
   ]
  }
 ],
 "metadata": {
  "jupytext": {
   "cell_metadata_filter": "-all",
   "main_language": "python",
   "notebook_metadata_filter": "-all"
  }
 },
 "nbformat": 4,
 "nbformat_minor": 5
}
