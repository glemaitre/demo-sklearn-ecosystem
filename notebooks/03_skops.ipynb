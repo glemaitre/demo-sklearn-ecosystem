{
 "cells": [
  {
   "cell_type": "markdown",
   "id": "db6253a4",
   "metadata": {},
   "source": [
    "\n",
    "# `skops`\n",
    "\n",
    "Disclaimer: `skops` is not a model registry as for instance MLflow. The vision is\n",
    "to provide building blocks that ultimately are useful to move `scikit-learn` models\n",
    "closer to production. `skops` would be a so-called \"flavor\" on which MLflow relies\n",
    "on: https://github.com/mlflow/mlflow/issues/13077\n",
    "\n",
    "## Storing and loading a model using pickling"
   ]
  },
  {
   "cell_type": "code",
   "execution_count": null,
   "id": "1bb5e217",
   "metadata": {},
   "outputs": [],
   "source": [
    "from sklearn.datasets import load_iris\n",
    "from sklearn.tree import DecisionTreeClassifier\n",
    "from sklearn.model_selection import train_test_split\n",
    "\n",
    "X, y = load_iris(return_X_y=True, as_frame=True)\n",
    "X_train, X_test, y_train, y_test = train_test_split(X, y, random_state=42)\n",
    "\n",
    "model = DecisionTreeClassifier(random_state=42).fit(X_train, y_train)"
   ]
  },
  {
   "cell_type": "code",
   "execution_count": null,
   "id": "cb9dd47a",
   "metadata": {},
   "outputs": [],
   "source": [
    "import joblib\n",
    "\n",
    "joblib.dump(model, \"../data/03_model.joblib\")"
   ]
  },
  {
   "cell_type": "code",
   "execution_count": null,
   "id": "f0ed3fa1",
   "metadata": {},
   "outputs": [],
   "source": [
    "model = joblib.load(\"../data/03_model.joblib\")"
   ]
  },
  {
   "cell_type": "code",
   "execution_count": null,
   "id": "aa2962ab",
   "metadata": {},
   "outputs": [],
   "source": [
    "print(f\"Accuracy: {model.score(X_test, y_test):.2f}\")"
   ]
  },
  {
   "cell_type": "markdown",
   "id": "63a044f5",
   "metadata": {},
   "source": [
    "\n",
    "So what's wrong with this approach?\n",
    "\n",
    "In short, nothing if you are a single-user environment because:\n",
    "\n",
    "- you trust the source of the pickle file\n",
    "- you handle yourself the environment where the pickle file is loaded"
   ]
  },
  {
   "cell_type": "code",
   "execution_count": null,
   "id": "f5813b95",
   "metadata": {},
   "outputs": [],
   "source": [
    "import pickle\n",
    "import pickletools\n",
    "\n",
    "\n",
    "class D:\n",
    "    def __reduce__(self):\n",
    "        return (print, (\"!!!I SEE YOU!!!\",))\n",
    "\n",
    "\n",
    "pickled = pickle.dumps(D())\n",
    "pickletools.dis(pickled)"
   ]
  },
  {
   "cell_type": "code",
   "execution_count": null,
   "id": "63a160ae",
   "metadata": {},
   "outputs": [],
   "source": [
    "pickle.loads(pickled)"
   ]
  },
  {
   "cell_type": "code",
   "execution_count": null,
   "id": "8c54c7e5",
   "metadata": {},
   "outputs": [],
   "source": [
    "import os\n",
    "\n",
    "\n",
    "class E:\n",
    "    def __reduce__(self):\n",
    "        return (\n",
    "            os.system,\n",
    "            (\"\"\"mkdir -p /tmp/dumps && echo \"!!!I'm in YOUR SYSTEM!!!\" > /tmp/dumps/demo.txt\"\"\",),\n",
    "        )\n",
    "\n",
    "\n",
    "pickled = pickle.dumps(E())\n",
    "pickletools.dis(pickled)"
   ]
  },
  {
   "cell_type": "code",
   "execution_count": null,
   "id": "e5e6b4c3",
   "metadata": {},
   "outputs": [],
   "source": [
    "pickle.loads(pickled)"
   ]
  },
  {
   "cell_type": "code",
   "execution_count": null,
   "id": "1403ce40",
   "metadata": {},
   "outputs": [],
   "source": [
    "with open(\"/tmp/dumps/demo.txt\", \"r\") as f:\n",
    "    print(f.read())"
   ]
  },
  {
   "cell_type": "markdown",
   "id": "483f0cfc",
   "metadata": {},
   "source": [
    "\n",
    "## Securing the pickling process using `skops`\n",
    "\n",
    "The idea would be to traverse the pickled object and ensure that there is no\n",
    "structure or object that we don't explicitly trust.\n",
    "\n",
    "So by default, `skops` trust scikit-learn objects and we can do the same as with\n",
    "`joblib`."
   ]
  },
  {
   "cell_type": "code",
   "execution_count": null,
   "id": "1094209f",
   "metadata": {},
   "outputs": [],
   "source": [
    "from skops import io as sio\n",
    "\n",
    "sio.dump(model, \"../data/03_model.skops\")"
   ]
  },
  {
   "cell_type": "code",
   "execution_count": null,
   "id": "45f39449",
   "metadata": {},
   "outputs": [],
   "source": [
    "model_loaded = sio.load(\"../data/03_model.skops\")"
   ]
  },
  {
   "cell_type": "code",
   "execution_count": null,
   "id": "c79ad7c2",
   "metadata": {},
   "outputs": [],
   "source": [
    "print(f\"Accuracy: {model_loaded.score(X_test, y_test):.2f}\")"
   ]
  },
  {
   "cell_type": "markdown",
   "id": "22ddc353",
   "metadata": {},
   "source": [
    "\n",
    "Before to load the model, we can visualize what is trusted or not by `skops`."
   ]
  },
  {
   "cell_type": "code",
   "execution_count": null,
   "id": "76036a99",
   "metadata": {},
   "outputs": [],
   "source": [
    "sio.visualize(\"../data/03_model.skops\")"
   ]
  },
  {
   "cell_type": "markdown",
   "id": "962c2a12",
   "metadata": {},
   "source": [
    "\n",
    "Now, let's have an example where we have a custom object that we don't trust by\n",
    "default."
   ]
  },
  {
   "cell_type": "code",
   "execution_count": null,
   "id": "4ece9de4",
   "metadata": {},
   "outputs": [],
   "source": [
    "from sklearn.base import BaseEstimator\n",
    "from sklearn.pipeline import make_pipeline\n",
    "\n",
    "\n",
    "class TransformerNoOp(BaseEstimator):\n",
    "    def fit(self, X, y):\n",
    "        self.fitted_ = True\n",
    "        return self\n",
    "    def transform(self, X):\n",
    "        return X\n",
    "\n",
    "\n",
    "model = make_pipeline(TransformerNoOp(), DecisionTreeClassifier(random_state=42))\n",
    "model.fit(X_train, y_train)\n",
    "sio.dump(model, \"../data/03_model.skops\")"
   ]
  },
  {
   "cell_type": "code",
   "execution_count": null,
   "id": "eeed36e9",
   "metadata": {},
   "outputs": [],
   "source": [
    "sio.visualize(\"../data/03_model.skops\")"
   ]
  },
  {
   "cell_type": "markdown",
   "id": "7ab60cbb",
   "metadata": {},
   "source": [
    "\n",
    "We see that one of the object is treated as unsafe. Let's try to load the model."
   ]
  },
  {
   "cell_type": "code",
   "execution_count": null,
   "id": "6cb521fa",
   "metadata": {},
   "outputs": [],
   "source": [
    "sio.load(\"../data/03_model.skops\")"
   ]
  },
  {
   "cell_type": "markdown",
   "id": "f81d4ff0",
   "metadata": {},
   "source": [
    "\n",
    "But we are sure of what we handle, then we can load the model with the `trusted`\n",
    "parameter."
   ]
  },
  {
   "cell_type": "code",
   "execution_count": null,
   "id": "f7455948",
   "metadata": {},
   "outputs": [],
   "source": [
    "sio.load(\"../data/03_model.skops\", trusted=[\"__main__.TransformerNoOp\"])"
   ]
  },
  {
   "cell_type": "markdown",
   "id": "143785ba",
   "metadata": {},
   "source": [
    "\n",
    "## Documenting machine learning models\n",
    "\n",
    "`skops` allows to create model cards that should be seen as the documentation of\n",
    "the model. A model card would be a bunch of written information to understand how\n",
    "the model as been trained, for which purpose, and quantitative and qualitative\n",
    "analysis of the model. Perfectly, this information should allow to reproduce the\n",
    "model."
   ]
  },
  {
   "cell_type": "code",
   "execution_count": null,
   "id": "4499b6ad",
   "metadata": {},
   "outputs": [],
   "source": [
    "from skops.card import Card\n",
    "\n",
    "model_card = Card(model)"
   ]
  },
  {
   "cell_type": "code",
   "execution_count": null,
   "id": "4023a930",
   "metadata": {},
   "outputs": [],
   "source": [
    "print(model_card.render())"
   ]
  },
  {
   "cell_type": "code",
   "execution_count": null,
   "id": "eb26e616",
   "metadata": {},
   "outputs": [],
   "source": [
    "limitations = \"This model is not ready to be used in production.\"\n",
    "model_description = \"It is a dummy decision tree just to show a demo.\"\n",
    "model_card_authors = \"me\"\n",
    "\n",
    "model_card = model_card.add(\n",
    "    **{\n",
    "        \"Model Card Authors\": model_card_authors,\n",
    "        \"Model description\": model_description,\n",
    "        \"Model description/Intended uses & limitations\": limitations,\n",
    "    }\n",
    ")"
   ]
  },
  {
   "cell_type": "code",
   "execution_count": null,
   "id": "3a5720bd",
   "metadata": {},
   "outputs": [],
   "source": [
    "print(model_card.render())"
   ]
  },
  {
   "cell_type": "markdown",
   "id": "6582686a",
   "metadata": {},
   "source": [
    "\n",
    "To provide model cards in use on open-hubs, we can have a look at the model card\n",
    "on Hugging Face: https://huggingface.co/apprentissage-sirius/verbatims-gem\n",
    "\n",
    "## Conclusions\n",
    "\n",
    "**Vision**\n",
    "- Develop building blocks to bring scikit-learn closer to production\n",
    "\n",
    "**Wrap-up**\n",
    "- Secure the persistence of scikit-learn models\n",
    "- Document scikit-learn models in production via model cards"
   ]
  }
 ],
 "metadata": {
  "jupytext": {
   "cell_metadata_filter": "-all",
   "main_language": "python",
   "notebook_metadata_filter": "-all"
  }
 },
 "nbformat": 4,
 "nbformat_minor": 5
}
