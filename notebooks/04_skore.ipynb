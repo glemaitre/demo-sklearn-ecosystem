{
 "cells": [
  {
   "cell_type": "markdown",
   "id": "1cd0334e",
   "metadata": {},
   "source": [
    "\n",
    "# `Skore` - an abstraction to ease data science project"
   ]
  },
  {
   "cell_type": "code",
   "execution_count": null,
   "id": "c7dc9401",
   "metadata": {},
   "outputs": [],
   "source": [
    "import os\n",
    "\n",
    "os.environ[\"TOKENIZERS_PARALLELISM\"] = \"true\""
   ]
  },
  {
   "cell_type": "markdown",
   "id": "89bad5d2",
   "metadata": {},
   "source": [
    "\n",
    "Let's open a skore project in which we will be able to store artifacts from our\n",
    "experiments."
   ]
  },
  {
   "cell_type": "code",
   "execution_count": null,
   "id": "d267dd33",
   "metadata": {},
   "outputs": [],
   "source": [
    "import skore\n",
    "\n",
    "my_project = skore.Project(\"../data/my_project\", if_exists=True)"
   ]
  },
  {
   "cell_type": "code",
   "execution_count": null,
   "id": "1ca8e3d4",
   "metadata": {},
   "outputs": [],
   "source": [
    "from skrub.datasets import fetch_employee_salaries\n",
    "\n",
    "datasets = fetch_employee_salaries()\n",
    "df, y = datasets.X, datasets.y"
   ]
  },
  {
   "cell_type": "code",
   "execution_count": null,
   "id": "fe76becb",
   "metadata": {},
   "outputs": [],
   "source": [
    "from skrub import TableReport\n",
    "\n",
    "table_report = TableReport(datasets.employee_salaries)\n",
    "table_report"
   ]
  },
  {
   "cell_type": "markdown",
   "id": "baee1c42",
   "metadata": {},
   "source": [
    "\n",
    "Let's model our problem."
   ]
  },
  {
   "cell_type": "code",
   "execution_count": null,
   "id": "66aeaecf",
   "metadata": {},
   "outputs": [],
   "source": [
    "from skrub import TableVectorizer, TextEncoder\n",
    "from sklearn.ensemble import RandomForestRegressor\n",
    "from sklearn.pipeline import make_pipeline\n",
    "\n",
    "model = make_pipeline(\n",
    "    TableVectorizer(high_cardinality=TextEncoder()),\n",
    "    RandomForestRegressor(n_estimators=20, max_leaf_nodes=40),\n",
    ")\n",
    "model"
   ]
  },
  {
   "cell_type": "markdown",
   "id": "1b8f5c1f",
   "metadata": {},
   "source": [
    "\n",
    "`skore` provides a couple of tools to ease the evaluation of model:"
   ]
  },
  {
   "cell_type": "code",
   "execution_count": null,
   "id": "abba3d70",
   "metadata": {},
   "outputs": [],
   "source": [
    "from skore import CrossValidationReport\n",
    "\n",
    "report = CrossValidationReport(estimator=model, X=df, y=y, cv_splitter=5, n_jobs=-1)"
   ]
  },
  {
   "cell_type": "code",
   "execution_count": null,
   "id": "145c8d2a",
   "metadata": {},
   "outputs": [],
   "source": [
    "report.help()"
   ]
  },
  {
   "cell_type": "code",
   "execution_count": null,
   "id": "1a8e6dff",
   "metadata": {},
   "outputs": [],
   "source": [
    "import time\n",
    "\n",
    "start = time.time()\n",
    "score = report.metrics.r2()\n",
    "end = time.time()\n",
    "print(f\"Time taken: {end - start:.2f} seconds\")"
   ]
  },
  {
   "cell_type": "code",
   "execution_count": null,
   "id": "f0e2a12f",
   "metadata": {},
   "outputs": [],
   "source": [
    "score"
   ]
  },
  {
   "cell_type": "code",
   "execution_count": null,
   "id": "3d8c3046",
   "metadata": {},
   "outputs": [],
   "source": [
    "start = time.time()\n",
    "score = report.metrics.r2()\n",
    "end = time.time()\n",
    "print(f\"Time taken: {end - start:.2f} seconds\")"
   ]
  },
  {
   "cell_type": "code",
   "execution_count": null,
   "id": "872548e5",
   "metadata": {},
   "outputs": [],
   "source": [
    "score"
   ]
  },
  {
   "cell_type": "code",
   "execution_count": null,
   "id": "4f1eef9c",
   "metadata": {},
   "outputs": [],
   "source": [
    "import time\n",
    "\n",
    "start = time.time()\n",
    "score = report.metrics.rmse()\n",
    "end = time.time()\n",
    "print(f\"Time taken: {end - start:.2f} seconds\")"
   ]
  },
  {
   "cell_type": "code",
   "execution_count": null,
   "id": "52e81551",
   "metadata": {},
   "outputs": [],
   "source": [
    "score"
   ]
  },
  {
   "cell_type": "code",
   "execution_count": null,
   "id": "e1ab0af2",
   "metadata": {},
   "outputs": [],
   "source": [
    "report.cache_predictions(n_jobs=-1)"
   ]
  },
  {
   "cell_type": "code",
   "execution_count": null,
   "id": "069457b7",
   "metadata": {},
   "outputs": [],
   "source": [
    "my_project.put(\"Random Forest model report\", report)"
   ]
  },
  {
   "cell_type": "code",
   "execution_count": null,
   "id": "da064109",
   "metadata": {},
   "outputs": [],
   "source": [
    "report = my_project.get(\"Random Forest model report\")\n",
    "report.help()"
   ]
  },
  {
   "cell_type": "code",
   "execution_count": null,
   "id": "c9daf5bc",
   "metadata": {},
   "outputs": [],
   "source": [
    "report.metrics.report_metrics(aggregate=[\"mean\", \"std\"], indicator_favorability=True)"
   ]
  },
  {
   "cell_type": "code",
   "execution_count": null,
   "id": "9ac6218c",
   "metadata": {},
   "outputs": [],
   "source": [
    "display = report.metrics.prediction_error()\n",
    "display.plot(kind=\"actual_vs_predicted\")"
   ]
  },
  {
   "cell_type": "code",
   "execution_count": null,
   "id": "b757e6be",
   "metadata": {},
   "outputs": [],
   "source": [
    "report.estimator_reports_"
   ]
  },
  {
   "cell_type": "code",
   "execution_count": null,
   "id": "2578274e",
   "metadata": {},
   "outputs": [],
   "source": [
    "estimator_report = report.estimator_reports_[0]\n",
    "estimator_report.help()"
   ]
  },
  {
   "cell_type": "code",
   "execution_count": null,
   "id": "9d91e0fb",
   "metadata": {},
   "outputs": [],
   "source": [
    "estimator_report.metrics.prediction_error().plot(kind=\"actual_vs_predicted\")"
   ]
  },
  {
   "cell_type": "code",
   "execution_count": null,
   "id": "ba7f943a",
   "metadata": {},
   "outputs": [],
   "source": []
  },
  {
   "cell_type": "markdown",
   "id": "2cbea3bc",
   "metadata": {},
   "source": [
    "\n",
    "## Conclusions\n",
    "\n",
    "**Vision**\n",
    "- Develop tooling to create data science artifacts\n",
    "- Help at following good practices for the problem at hand\n",
    "- Help at the collaboration to carry on data science project\n",
    "\n",
    "**Wrap-up**\n",
    "- Provide tools to evaluate predictive models\n",
    "- Make some internal magic to reduce user friction\n",
    "- Allow for persistence of artifacts\n",
    "\n",
    "**Roadmap**\n",
    "- Cover multiple aspects of the data science life cycles: data, model, etc.\n",
    "- Help at creating artifacts dedicated to the problem at hand and the model\n",
    "- Reduce the complexity related to code"
   ]
  }
 ],
 "metadata": {
  "jupytext": {
   "cell_metadata_filter": "-all",
   "main_language": "python",
   "notebook_metadata_filter": "-all"
  }
 },
 "nbformat": 4,
 "nbformat_minor": 5
}
