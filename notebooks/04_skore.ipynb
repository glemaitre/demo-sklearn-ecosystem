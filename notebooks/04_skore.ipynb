{
 "cells": [
  {
   "cell_type": "markdown",
   "id": "02dace89",
   "metadata": {},
   "source": [
    "\n",
    "# `Skore` - an abstraction to ease data science project"
   ]
  },
  {
   "cell_type": "code",
   "execution_count": null,
   "id": "416813c3",
   "metadata": {},
   "outputs": [],
   "source": [
    "import os\n",
    "\n",
    "os.environ[\"POLARS_ALLOW_FORKING_THREAD\"] = \"1\"\n",
    "os.environ[\"TOKENIZERS_PARALLELISM\"] = \"true\""
   ]
  },
  {
   "cell_type": "markdown",
   "id": "cbe7c335",
   "metadata": {},
   "source": [
    "\n",
    "Let's open a skore project in which we will be able to store artifacts from our\n",
    "experiments."
   ]
  },
  {
   "cell_type": "code",
   "execution_count": null,
   "id": "94e820ee",
   "metadata": {},
   "outputs": [],
   "source": [
    "import skore\n",
    "\n",
    "my_project = skore.Project(\"../data/my_project\", if_exists=True)"
   ]
  },
  {
   "cell_type": "code",
   "execution_count": null,
   "id": "83dfa442",
   "metadata": {},
   "outputs": [],
   "source": [
    "from skrub.datasets import fetch_employee_salaries\n",
    "\n",
    "datasets = fetch_employee_salaries()\n",
    "df, y = datasets.X, datasets.y"
   ]
  },
  {
   "cell_type": "code",
   "execution_count": null,
   "id": "0b4e6da7",
   "metadata": {},
   "outputs": [],
   "source": [
    "from skrub import TableReport\n",
    "\n",
    "table_report = TableReport(datasets.employee_salaries)\n",
    "table_report"
   ]
  },
  {
   "cell_type": "markdown",
   "id": "2786c138",
   "metadata": {},
   "source": [
    "\n",
    "Let's model our problem."
   ]
  },
  {
   "cell_type": "code",
   "execution_count": null,
   "id": "ffedc387",
   "metadata": {},
   "outputs": [],
   "source": [
    "from skrub import TableVectorizer, TextEncoder\n",
    "from sklearn.ensemble import RandomForestRegressor\n",
    "from sklearn.pipeline import make_pipeline\n",
    "\n",
    "model = make_pipeline(\n",
    "    TableVectorizer(high_cardinality=TextEncoder()),\n",
    "    RandomForestRegressor(n_estimators=20, max_leaf_nodes=40),\n",
    ")\n",
    "model"
   ]
  },
  {
   "cell_type": "markdown",
   "id": "990b5487",
   "metadata": {},
   "source": [
    "\n",
    "`skore` provides a couple of tools to ease the evaluation of model:"
   ]
  },
  {
   "cell_type": "code",
   "execution_count": null,
   "id": "bfd4f23f",
   "metadata": {},
   "outputs": [],
   "source": [
    "from skore import CrossValidationReport\n",
    "\n",
    "report = CrossValidationReport(estimator=model, X=df, y=y, cv_splitter=5, n_jobs=4)"
   ]
  },
  {
   "cell_type": "code",
   "execution_count": null,
   "id": "392ea3a1",
   "metadata": {},
   "outputs": [],
   "source": [
    "report.help()"
   ]
  },
  {
   "cell_type": "code",
   "execution_count": null,
   "id": "bcd70cd7",
   "metadata": {},
   "outputs": [],
   "source": [
    "import time\n",
    "\n",
    "start = time.time()\n",
    "score = report.metrics.r2()\n",
    "end = time.time()\n",
    "print(f\"Time taken: {end - start:.2f} seconds\")"
   ]
  },
  {
   "cell_type": "code",
   "execution_count": null,
   "id": "8ef7d287",
   "metadata": {},
   "outputs": [],
   "source": [
    "score"
   ]
  },
  {
   "cell_type": "code",
   "execution_count": null,
   "id": "0ccb0b0e",
   "metadata": {},
   "outputs": [],
   "source": [
    "start = time.time()\n",
    "score = report.metrics.r2()\n",
    "end = time.time()\n",
    "print(f\"Time taken: {end - start:.2f} seconds\")"
   ]
  },
  {
   "cell_type": "code",
   "execution_count": null,
   "id": "b786d672",
   "metadata": {},
   "outputs": [],
   "source": [
    "score"
   ]
  },
  {
   "cell_type": "code",
   "execution_count": null,
   "id": "fff82ad6",
   "metadata": {},
   "outputs": [],
   "source": [
    "import time\n",
    "\n",
    "start = time.time()\n",
    "score = report.metrics.rmse()\n",
    "end = time.time()\n",
    "print(f\"Time taken: {end - start:.2f} seconds\")"
   ]
  },
  {
   "cell_type": "code",
   "execution_count": null,
   "id": "9b20e614",
   "metadata": {},
   "outputs": [],
   "source": [
    "score"
   ]
  },
  {
   "cell_type": "code",
   "execution_count": null,
   "id": "3f41a5d6",
   "metadata": {},
   "outputs": [],
   "source": [
    "report.cache_predictions(n_jobs=4)"
   ]
  },
  {
   "cell_type": "code",
   "execution_count": null,
   "id": "0a732cdb",
   "metadata": {},
   "outputs": [],
   "source": [
    "my_project.put(\"Random Forest model report\", report)"
   ]
  },
  {
   "cell_type": "code",
   "execution_count": null,
   "id": "fc014921",
   "metadata": {},
   "outputs": [],
   "source": [
    "report = my_project.get(\"Random Forest model report\")\n",
    "report.help()"
   ]
  },
  {
   "cell_type": "code",
   "execution_count": null,
   "id": "3dded984",
   "metadata": {},
   "outputs": [],
   "source": [
    "report.metrics.report_metrics(aggregate=[\"mean\", \"std\"], indicator_favorability=True)"
   ]
  },
  {
   "cell_type": "code",
   "execution_count": null,
   "id": "f0fa1ff1",
   "metadata": {},
   "outputs": [],
   "source": [
    "display = report.metrics.prediction_error()\n",
    "display.plot(kind=\"actual_vs_predicted\")"
   ]
  },
  {
   "cell_type": "code",
   "execution_count": null,
   "id": "6efe909c",
   "metadata": {},
   "outputs": [],
   "source": [
    "report.estimator_reports_"
   ]
  },
  {
   "cell_type": "code",
   "execution_count": null,
   "id": "d6a9de6b",
   "metadata": {},
   "outputs": [],
   "source": [
    "estimator_report = report.estimator_reports_[0]\n",
    "estimator_report.help()"
   ]
  },
  {
   "cell_type": "code",
   "execution_count": null,
   "id": "2f8c8db4",
   "metadata": {},
   "outputs": [],
   "source": [
    "estimator_report.metrics.prediction_error().plot(kind=\"actual_vs_predicted\")"
   ]
  },
  {
   "cell_type": "markdown",
   "id": "946cdc95",
   "metadata": {},
   "source": [
    "\n",
    "## Conclusions\n",
    "\n",
    "**Vision**\n",
    "- Develop tooling to create data science artifacts\n",
    "- Help at following good practices for the problem at hand\n",
    "- Help at the collaboration to carry on data science project\n",
    "\n",
    "**Wrap-up**\n",
    "- Provide tools to evaluate predictive models\n",
    "- Make some internal magic to reduce user friction\n",
    "- Allow for persistence of artifacts\n",
    "\n",
    "**Roadmap**\n",
    "- Cover multiple aspects of the data science life cycles: data, model, etc.\n",
    "- Help at creating artifacts dedicated to the problem at hand and the model\n",
    "- Reduce the complexity related to code"
   ]
  }
 ],
 "metadata": {
  "jupytext": {
   "cell_metadata_filter": "-all",
   "main_language": "python",
   "notebook_metadata_filter": "-all"
  }
 },
 "nbformat": 4,
 "nbformat_minor": 5
}
